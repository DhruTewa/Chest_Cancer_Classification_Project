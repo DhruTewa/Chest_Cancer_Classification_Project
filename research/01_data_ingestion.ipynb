{
 "cells": [
  {
   "cell_type": "code",
   "execution_count": 128,
   "metadata": {},
   "outputs": [],
   "source": [
    "from dataclasses import dataclass\n",
    "from pathlib import Path\n",
    "\n",
    "@dataclass(frozen=True)\n",
    "class DataIngestionConfig:\n",
    "    root_dir: Path\n",
    "    source_type: str\n",
    "    kaggle_dataset_owner: str\n",
    "    kaggle_dataset_name: str\n",
    "    local_data_file: Path\n",
    "    unzip_dir: Path\n"
   ]
  },
  {
   "cell_type": "code",
   "execution_count": 129,
   "metadata": {},
   "outputs": [],
   "source": [
    "from cnnClassifier.constants import *\n",
    "from cnnClassifier.utils.common import read_yaml, create_directories"
   ]
  },
  {
   "cell_type": "code",
   "execution_count": 130,
   "metadata": {},
   "outputs": [],
   "source": [
    "class ConfigurationManager:\n",
    "    def __init__(\n",
    "        self,\n",
    "        config_file_path = CONFIG_FILE_PATH,\n",
    "        params_file_path = PARAMS_FILE_PATH,) :\n",
    "        self.config = read_yaml(config_file_path)\n",
    "        self.params = read_yaml(params_file_path)\n",
    "        \n",
    "        create_directories([self.config.artifacts_root])\n",
    "        \n",
    "    def get_data_ingestion_config(self) -> DataIngestionConfig:\n",
    "        config=self.config.data_ingestion\n",
    "        create_directories([config.root_dir])\n",
    "        \n",
    "        data_ingestion_config = DataIngestionConfig(\n",
    "            root_dir = config.root_dir,\n",
    "            source_type = config.source_type,\n",
    "            kaggle_dataset_owner = config.kaggle_dataset_owner,\n",
    "            kaggle_dataset_name = config.kaggle_dataset_name,\n",
    "            local_data_file = config.local_data_file,\n",
    "            unzip_dir = config.unzip_dir\n",
    "        )\n",
    "        return data_ingestion_config    "
   ]
  },
  {
   "cell_type": "code",
   "execution_count": 131,
   "metadata": {},
   "outputs": [],
   "source": [
    "import os\n",
    "import zipfile\n",
    "import kaggle\n",
    "from kaggle.api.kaggle_api_extended import KaggleApi\n",
    "from cnnClassifier import logger\n",
    "from cnnClassifier.utils.common import get_size\n",
    "import shutil"
   ]
  },
  {
   "cell_type": "code",
   "execution_count": 132,
   "metadata": {},
   "outputs": [],
   "source": [
    "class DataIngestion:\n",
    "    def __init__(self, config: DataIngestionConfig):\n",
    "        self.config = config\n",
    "    \n",
    "    def download_file(self) -> str:\n",
    "        # Authenticate with Kaggle API\n",
    "        api = KaggleApi()\n",
    "        api.authenticate()\n",
    "        logger.info(f\"Kaggle API Authenticated\")\n",
    "        \n",
    "        try: \n",
    "            dataset_url = f\"{self.config.kaggle_dataset_owner}/{self.config.kaggle_dataset_name}\"\n",
    "            zip_download_dir = self.config.local_data_file\n",
    "            os.makedirs(\"artifacts/data_ingestion\", exist_ok=True)\n",
    "            logger.info(f\"Downloading data from {dataset_url} into file {zip_download_dir}\")\n",
    "            api.dataset_download_files(dataset_url, path=zip_download_dir, unzip=False)\n",
    "            logger.info(f\"Downloaded dataset from kaggle to {zip_download_dir}\")\n",
    "            #logger.info(f\"Downloaded dataset from kaggle to {self.config.root_dir}\")\n",
    "        \n",
    "        except Exception as e:\n",
    "            raise e\n",
    "      \n",
    "    def extract_zip_file(self):\n",
    "        \"\"\"\n",
    "        zip_file_path: str\n",
    "        Extracts the zip file into the data directory\n",
    "        Function returns None\n",
    "        \"\"\"\n",
    "        unzip_path = self.config.unzip_dir\n",
    "        zip_file_path = os.path.join(self.config.local_data_file, 'chest-ctscan-images.zip')\n",
    "        with zipfile.ZipFile(zip_file_path, 'r') as zip_ref:\n",
    "            zip_ref.extractall(unzip_path)  \n",
    "\n",
    "        \n",
    "        logger.info(f\"Extracted dataset to {unzip_path}\")"
   ]
  },
  {
   "cell_type": "code",
   "execution_count": 133,
   "metadata": {},
   "outputs": [
    {
     "name": "stdout",
     "output_type": "stream",
     "text": [
      "[2024-08-21 23:59:32,273: INFO: common: yaml file: config/config.yaml loaded successfully]\n",
      "[2024-08-21 23:59:32,274: INFO: common: yaml file: params.yaml loaded successfully]\n",
      "[2024-08-21 23:59:32,275: INFO: common: created directory at: artifacts]\n",
      "[2024-08-21 23:59:32,275: INFO: common: created directory at: artifacts/data_ingestion]\n",
      "Warning: Your Kaggle API key is readable by other users on this system! To fix this, you can run 'chmod 600 /Users/dhruv/.kaggle/kaggle.json'\n",
      "[2024-08-21 23:59:32,278: INFO: 782049457: Kaggle API Authenticated]\n",
      "[2024-08-21 23:59:32,279: INFO: 782049457: Downloading data from mohamedhanyyy/chest-ctscan-images into file artifacts/data_ingestion/]\n",
      "Dataset URL: https://www.kaggle.com/datasets/mohamedhanyyy/chest-ctscan-images\n",
      "[2024-08-21 23:59:37,021: INFO: 782049457: Downloaded dataset from kaggle to artifacts/data_ingestion/]\n",
      "[2024-08-21 23:59:37,656: INFO: 782049457: Extracted dataset to artifacts/data_ingestion]\n"
     ]
    }
   ],
   "source": [
    "try:\n",
    "    config_manager = ConfigurationManager()\n",
    "    data_ingestion_config = config_manager.get_data_ingestion_config()\n",
    "    data_ingestion = DataIngestion(config=data_ingestion_config)\n",
    "    data_ingestion.download_file()\n",
    "    data_ingestion.extract_zip_file()\n",
    "except Exception as e:\n",
    "    raise e"
   ]
  },
  {
   "cell_type": "code",
   "execution_count": null,
   "metadata": {},
   "outputs": [],
   "source": []
  }
 ],
 "metadata": {
  "kernelspec": {
   "display_name": "deeplearning",
   "language": "python",
   "name": "python3"
  },
  "language_info": {
   "codemirror_mode": {
    "name": "ipython",
    "version": 3
   },
   "file_extension": ".py",
   "mimetype": "text/x-python",
   "name": "python",
   "nbconvert_exporter": "python",
   "pygments_lexer": "ipython3",
   "version": "3.10.14"
  }
 },
 "nbformat": 4,
 "nbformat_minor": 2
}
